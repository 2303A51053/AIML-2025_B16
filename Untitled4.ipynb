{
  "nbformat": 4,
  "nbformat_minor": 0,
  "metadata": {
    "colab": {
      "provenance": [],
      "authorship_tag": "ABX9TyMmXdImVeyjAWZj13N6IXpP",
      "include_colab_link": true
    },
    "kernelspec": {
      "name": "python3",
      "display_name": "Python 3"
    },
    "language_info": {
      "name": "python"
    }
  },
  "cells": [
    {
      "cell_type": "markdown",
      "metadata": {
        "id": "view-in-github",
        "colab_type": "text"
      },
      "source": [
        "<a href=\"https://colab.research.google.com/github/2303A51053/AIML-2025_B16/blob/main/Untitled4.ipynb\" target=\"_parent\"><img src=\"https://colab.research.google.com/assets/colab-badge.svg\" alt=\"Open In Colab\"/></a>"
      ]
    },
    {
      "cell_type": "code",
      "execution_count": null,
      "metadata": {
        "id": "xubwfDU_1emL"
      },
      "outputs": [],
      "source": [
        "class Game:\n",
        "  def actions(self,state):\n",
        "    raise NotImplementedError\n",
        "\n",
        "    def result(self,state,move):\n",
        "      raise NotImplementedError\n",
        "\n",
        "      def is_terminalk(self,state):\n",
        "        return not self.actions(state)\n",
        "\n",
        "        def utility(self,state,player):\n",
        "          raise NotImplementedError\n"
      ]
    },
    {
      "cell_type": "code",
      "source": [
        "def play_game(game, strategies: dict, verbose=False):\n",
        "  state = game.initial\n",
        "  while not game.is_terminal(state):\n",
        "   player = state.to_move\n",
        "   move = strategies[player](game, state)\n",
        "   state = game.results(state, move)\n",
        "  if verbose:\n",
        "    print('player',player,'move:',move)\n",
        "    print(state)\n",
        "    return state"
      ],
      "metadata": {
        "id": "NIZjzhwj24sH"
      },
      "execution_count": null,
      "outputs": []
    },
    {
      "cell_type": "code",
      "source": [
        "from re import A\n",
        "def minmax_search(game,state):\n",
        "  player = state.to_move\n",
        "  def max_value(state):\n",
        "    if game.is_terminal(state):\n",
        "      return game.utility(state,player),None\n",
        "       v, move = __infinity,None\n",
        "       for a in game.actions(state):\n",
        "         v2, _=min_value(game.result(state,a))\n",
        "         if v2>v:\n",
        "           v, move = v2,a\n",
        "           return v, move\n",
        "           def min_value(game.result(state,a))\n",
        "           if v2<v:\n",
        "             v,move = v2,a\n",
        "             return v,move\n",
        "             return max_value(state)\n",
        "             infinity = math.inf\n",
        "             def alphabeta_search(game,state):\n",
        "               player = state.to_move\n",
        "               def max_value(state,alpha,beta):\n",
        "                 if game.is_terminal(state):\n",
        "                   return game.utility (state,player),None\n",
        "                   v, move = __infinity,None\n"
      ],
      "metadata": {
        "colab": {
          "base_uri": "https://localhost:8080/",
          "height": 106
        },
        "id": "iCA5s_6q5VTe",
        "outputId": "62844fdf-aa2d-4229-b626-885dc257e91a"
      },
      "execution_count": null,
      "outputs": [
        {
          "output_type": "error",
          "ename": "IndentationError",
          "evalue": "unexpected indent (<ipython-input-10-e25c75a803e1>, line 7)",
          "traceback": [
            "\u001b[0;36m  File \u001b[0;32m\"<ipython-input-10-e25c75a803e1>\"\u001b[0;36m, line \u001b[0;32m7\u001b[0m\n\u001b[0;31m    v, move = __infinity,None\u001b[0m\n\u001b[0m    ^\u001b[0m\n\u001b[0;31mIndentationError\u001b[0m\u001b[0;31m:\u001b[0m unexpected indent\n"
          ]
        }
      ]
    }
  ]
}